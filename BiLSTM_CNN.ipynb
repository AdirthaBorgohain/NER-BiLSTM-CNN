{
 "cells": [
  {
   "cell_type": "code",
   "execution_count": 1,
   "metadata": {
    "id": "BWQ2h3gOVBkf"
   },
   "outputs": [],
   "source": [
    "# Importing all necessary python libraries and packages\n",
    "import joblib               # Loads and saves a serializable python object\n",
    "import numpy as np          # Performs mathemtical operations with arrays and matrices\n",
    "import pandas as pd         # Loads data to dataframe after reading data files\n",
    "from tqdm import tqdm       # Visualizes iterating through an iterable object\n",
    "from time import time       # Used to keep track of time elapsed\n",
    "\n",
    "# All tensorflow modules and layers are imported below\n",
    "import os\n",
    "import tensorflow as tf\n",
    "os.environ['TF_CPP_MIN_LOG_LEVEL'] = '3'\n",
    "tf.get_logger().setLevel('ERROR')\n",
    "from tensorflow.keras.models import Model, load_model\n",
    "from tensorflow.keras.layers import TimeDistributed, Conv1D, Dense, Embedding, Input, Dropout, LSTM, Bidirectional, MaxPooling1D, \\\n",
    "    Flatten, concatenate\n",
    "from tensorflow.keras.preprocessing.sequence import pad_sequences\n",
    "from tensorflow.keras.initializers import RandomUniform\n",
    "from tensorflow.keras.optimizers import Nadam"
   ]
  },
  {
   "cell_type": "markdown",
   "metadata": {
    "id": "wcbS0njJfzK6"
   },
   "source": [
    "We first specify some of the common parameters that we will use throughout the notebook"
   ]
  },
  {
   "cell_type": "code",
   "execution_count": 2,
   "metadata": {
    "id": "ceYoPUk-UT67"
   },
   "outputs": [],
   "source": [
    "MAX_CHAR_LEN = 52           # Maximum length of words that we consider. 52 has been choosen after analyzing the words in the dataset\n",
    "GloVe_emb_dim = 50          # Dimension of GloVe embeddings that we use in our model (More about gloVe embeddings: https://nlp.stanford.edu/projects/glove/)\n",
    "glove_embeddings_filepath = \"./embeddings/glove.6B.50d.txt\"     # Path where the gloVe embeddings file is kept\n",
    "\n",
    "# Paths of the train, test and validation files are listed below\n",
    "train_file = './data/train.txt'\n",
    "test_file = './data/test.txt'\n",
    "val_file = './data/valid.txt'"
   ]
  },
  {
   "cell_type": "markdown",
   "metadata": {
    "id": "StABYo-ZhPW3"
   },
   "source": [
    "# **Data Loading and Preparation**"
   ]
  },
  {
   "cell_type": "markdown",
   "metadata": {
    "id": "N3LTJEx4f7qC"
   },
   "source": [
    "We load the train, test and val data into separate dataframes first. For loading data into dataframes, we use the pandas library. (For more info: https://pandas.pydata.org/). Each word of a sentence is stored in a row alongwith the characters that make up the word and the tag associated with the word. The sentence to which a word belongs to can be deduced by looking at the 'sentence #' column in the dataframe."
   ]
  },
  {
   "cell_type": "code",
   "execution_count": 3,
   "metadata": {
    "colab": {
     "base_uri": "https://localhost:8080/",
     "height": 424
    },
    "id": "CbUzaM6RVNek",
    "outputId": "a6d0ac63-7ba0-42fa-96f6-b284adf747e3"
   },
   "outputs": [
    {
     "data": {
      "text/html": [
       "<div>\n",
       "<style scoped>\n",
       "    .dataframe tbody tr th:only-of-type {\n",
       "        vertical-align: middle;\n",
       "    }\n",
       "\n",
       "    .dataframe tbody tr th {\n",
       "        vertical-align: top;\n",
       "    }\n",
       "\n",
       "    .dataframe thead th {\n",
       "        text-align: right;\n",
       "    }\n",
       "</style>\n",
       "<table border=\"1\" class=\"dataframe\">\n",
       "  <thead>\n",
       "    <tr style=\"text-align: right;\">\n",
       "      <th></th>\n",
       "      <th>sentence #</th>\n",
       "      <th>word</th>\n",
       "      <th>chars</th>\n",
       "      <th>tag</th>\n",
       "    </tr>\n",
       "  </thead>\n",
       "  <tbody>\n",
       "    <tr>\n",
       "      <th>0</th>\n",
       "      <td>1</td>\n",
       "      <td>EU</td>\n",
       "      <td>[E, U]</td>\n",
       "      <td>B-ORG</td>\n",
       "    </tr>\n",
       "    <tr>\n",
       "      <th>1</th>\n",
       "      <td>1</td>\n",
       "      <td>rejects</td>\n",
       "      <td>[r, e, j, e, c, t, s]</td>\n",
       "      <td>O</td>\n",
       "    </tr>\n",
       "    <tr>\n",
       "      <th>2</th>\n",
       "      <td>1</td>\n",
       "      <td>German</td>\n",
       "      <td>[G, e, r, m, a, n]</td>\n",
       "      <td>B-MISC</td>\n",
       "    </tr>\n",
       "    <tr>\n",
       "      <th>3</th>\n",
       "      <td>1</td>\n",
       "      <td>call</td>\n",
       "      <td>[c, a, l, l]</td>\n",
       "      <td>O</td>\n",
       "    </tr>\n",
       "    <tr>\n",
       "      <th>4</th>\n",
       "      <td>1</td>\n",
       "      <td>to</td>\n",
       "      <td>[t, o]</td>\n",
       "      <td>O</td>\n",
       "    </tr>\n",
       "    <tr>\n",
       "      <th>...</th>\n",
       "      <td>...</td>\n",
       "      <td>...</td>\n",
       "      <td>...</td>\n",
       "      <td>...</td>\n",
       "    </tr>\n",
       "    <tr>\n",
       "      <th>203616</th>\n",
       "      <td>14040</td>\n",
       "      <td>three</td>\n",
       "      <td>[t, h, r, e, e]</td>\n",
       "      <td>O</td>\n",
       "    </tr>\n",
       "    <tr>\n",
       "      <th>203617</th>\n",
       "      <td>14041</td>\n",
       "      <td>Swansea</td>\n",
       "      <td>[S, w, a, n, s, e, a]</td>\n",
       "      <td>B-ORG</td>\n",
       "    </tr>\n",
       "    <tr>\n",
       "      <th>203618</th>\n",
       "      <td>14041</td>\n",
       "      <td>1</td>\n",
       "      <td>[1]</td>\n",
       "      <td>O</td>\n",
       "    </tr>\n",
       "    <tr>\n",
       "      <th>203619</th>\n",
       "      <td>14041</td>\n",
       "      <td>Lincoln</td>\n",
       "      <td>[L, i, n, c, o, l, n]</td>\n",
       "      <td>B-ORG</td>\n",
       "    </tr>\n",
       "    <tr>\n",
       "      <th>203620</th>\n",
       "      <td>14041</td>\n",
       "      <td>2</td>\n",
       "      <td>[2]</td>\n",
       "      <td>O</td>\n",
       "    </tr>\n",
       "  </tbody>\n",
       "</table>\n",
       "<p>203621 rows × 4 columns</p>\n",
       "</div>"
      ],
      "text/plain": [
       "        sentence #     word                  chars     tag\n",
       "0                1       EU                 [E, U]   B-ORG\n",
       "1                1  rejects  [r, e, j, e, c, t, s]       O\n",
       "2                1   German     [G, e, r, m, a, n]  B-MISC\n",
       "3                1     call           [c, a, l, l]       O\n",
       "4                1       to                 [t, o]       O\n",
       "...            ...      ...                    ...     ...\n",
       "203616       14040    three        [t, h, r, e, e]       O\n",
       "203617       14041  Swansea  [S, w, a, n, s, e, a]   B-ORG\n",
       "203618       14041        1                    [1]       O\n",
       "203619       14041  Lincoln  [L, i, n, c, o, l, n]   B-ORG\n",
       "203620       14041        2                    [2]       O\n",
       "\n",
       "[203621 rows x 4 columns]"
      ]
     },
     "execution_count": 3,
     "metadata": {},
     "output_type": "execute_result"
    }
   ],
   "source": [
    "# Function that takes the path of a file in conLL format and loads them into a \n",
    "# dataframe.\n",
    "def load_data(filename):\n",
    "    ner_data, counter, sentence_counter = {}, 0, 1\n",
    "\n",
    "    with open(filename, mode='r') as f:\n",
    "        sentence_flag = False\n",
    "        for line in f:\n",
    "            if len(line) == 0 or line.startswith('-DOCSTART') or line[0] == \"\\n\":\n",
    "                if sentence_flag:\n",
    "                    sentence_flag = False\n",
    "                    sentence_counter += 1\n",
    "                continue\n",
    "            splits = line.split(' ')\n",
    "            sentence_flag = True\n",
    "            ner_data[counter] = {\"sentence #\": sentence_counter, \n",
    "                                 \"word\": splits[0], \n",
    "                                 \"chars\": [c for c in splits[0]], \n",
    "                                 \"tag\": splits[-1].strip()}\n",
    "            counter += 1\n",
    "            \n",
    "    if sentence_flag:\n",
    "        sentence_flag = False\n",
    "        sentence_counter += 1\n",
    "    return pd.DataFrame.from_dict(ner_data, \"index\")\n",
    "\n",
    "\n",
    "train_data = load_data(train_file)\n",
    "test_data = load_data(test_file)\n",
    "val_data = load_data(val_file)\n",
    "\n",
    "train_data"
   ]
  },
  {
   "cell_type": "markdown",
   "metadata": {
    "id": "apWHDOSin5HM"
   },
   "source": [
    "We use a bidirectional LSTM layer in our model that forms the core of the network and takes in the following three features as input:\n",
    "\n",
    "*   **Character-level** inputs from characters that make up a word and from which patterns are identified by a convolutional neural network\n",
    "\n",
    "*   **Word-level** input from GloVE embeddings wherein each word that occurs in the dataset are mapped to their gloVe embeddings.\n",
    "\n",
    "* **Casing** inputs that denotes whether words are lower case, upper case, etc. This helps the model in identifying appropriate entities by observing the casing that makes up a word."
   ]
  },
  {
   "cell_type": "markdown",
   "metadata": {
    "id": "BFwazgeIgrQp"
   },
   "source": [
    "Next we extract out all unique words, tags and characters that are present in the given dataset. Each unique term is then mapped to a unique integer index and is stored as python dictionaries. These dictionaries help us encode the texts and characters to numeric values which a machine learning model accepts."
   ]
  },
  {
   "cell_type": "code",
   "execution_count": 4,
   "metadata": {
    "colab": {
     "base_uri": "https://localhost:8080/"
    },
    "id": "NO1UodIfVZuv",
    "outputId": "822caf02-6617-4f77-9e2d-e286e0729c52"
   },
   "outputs": [
    {
     "name": "stdout",
     "output_type": "stream",
     "text": [
      "Total number of unique words:  26869\n",
      "Total number of unique tags:  9\n",
      "tag2idx:  {'I-LOC': 0, 'I-PER': 1, 'B-MISC': 2, 'I-MISC': 3, 'B-PER': 4, 'I-ORG': 5, 'O': 6, 'B-ORG': 7, 'B-LOC': 8}\n",
      "Total unique characters in dataset:  85\n"
     ]
    }
   ],
   "source": [
    "# mapping for words\n",
    "words = set(train_data[\"word\"].to_list() + test_data[\"word\"].to_list() + val_data[\"word\"].to_list())\n",
    "\n",
    "words = set([w.lower() for w in words])\n",
    "n_words = len(words)\n",
    "print(\"Total number of unique words: \", n_words)\n",
    "\n",
    "\n",
    "# mapping for tags\n",
    "tags = set(train_data[\"tag\"].to_list() + test_data[\"tag\"].to_list() + val_data[\"tag\"].to_list())\n",
    "n_tags = len(tags)\n",
    "\n",
    "tag2idx = {}\n",
    "for i, tag in enumerate(tags):\n",
    "    tag2idx[tag] = i\n",
    "idx2tag = {v: k for k, v in tag2idx.items()}\n",
    "\n",
    "print(\"Total number of unique tags: \", n_tags)\n",
    "print(\"tag2idx: \", tag2idx)\n",
    "\n",
    "\n",
    "# mapping for characters\n",
    "chars = []\n",
    "for data in [train_data['chars'].to_list() + test_data['chars'].to_list() + val_data['chars'].to_list()]:\n",
    "    for word_char in data:\n",
    "        chars.extend(word_char)\n",
    "        chars = list(set(chars))\n",
    "\n",
    "# We manually map \"PAD\", \"UNK\" and \" \" to the char2idx mapping dictionary to \n",
    "# handle pad values and unknown values which we might come across later\n",
    "char2idx = {c: i + 3 for i, c in enumerate(chars)}\n",
    "char2idx[\"PAD\"] = 0\n",
    "char2idx[\"UNK\"] = 1\n",
    "char2idx[\" \"] = 2\n",
    "print(\"Total unique characters in dataset: \", len(chars))"
   ]
  },
  {
   "cell_type": "markdown",
   "metadata": {
    "id": "JAUO4RiqjTJs"
   },
   "source": [
    "The SentenceGetter class groups \"word\", \"chars\" and \"tag\" column by their \n",
    "sentence #s. We generate this grouped data for each of our train, test and \n",
    "validation data."
   ]
  },
  {
   "cell_type": "code",
   "execution_count": 5,
   "metadata": {
    "id": "rsvfQDpRVb7K"
   },
   "outputs": [],
   "source": [
    "class SentenceSegregator(object):\n",
    "    def __init__(self, data):\n",
    "        self.data = data\n",
    "        agg_func = lambda s: [(w, p, t) for w, p, t in zip(s[\"word\"].values.tolist(),\n",
    "                                                           s[\"chars\"].values.tolist(),\n",
    "                                                           s[\"tag\"].values.tolist())]\n",
    "        self.grouped = self.data.groupby(\"sentence #\").apply(agg_func)\n",
    "        self.sentences = [s for s in self.grouped]\n",
    "\n",
    "# Create SentenceSegregator objects using train, test and val data    \n",
    "segregator_train = SentenceSegregator(train_data)\n",
    "segregator_test = SentenceSegregator(test_data)\n",
    "segregator_val = SentenceSegregator(val_data)\n",
    "\n",
    "# Extract sentences for the three different types of data\n",
    "sentences_train = segregator_train.sentences\n",
    "sentences_test = segregator_test.sentences\n",
    "sentences_val = segregator_val.sentences"
   ]
  },
  {
   "cell_type": "code",
   "execution_count": 6,
   "metadata": {
    "colab": {
     "base_uri": "https://localhost:8080/"
    },
    "id": "8f-Mejy2jxMX",
    "outputId": "55d3531a-86f7-4e0e-afb5-4debd5e0b8a5"
   },
   "outputs": [
    {
     "data": {
      "text/plain": [
       "[[('EU', ['E', 'U'], 'B-ORG'),\n",
       "  ('rejects', ['r', 'e', 'j', 'e', 'c', 't', 's'], 'O'),\n",
       "  ('German', ['G', 'e', 'r', 'm', 'a', 'n'], 'B-MISC'),\n",
       "  ('call', ['c', 'a', 'l', 'l'], 'O'),\n",
       "  ('to', ['t', 'o'], 'O'),\n",
       "  ('boycott', ['b', 'o', 'y', 'c', 'o', 't', 't'], 'O'),\n",
       "  ('British', ['B', 'r', 'i', 't', 'i', 's', 'h'], 'B-MISC'),\n",
       "  ('lamb', ['l', 'a', 'm', 'b'], 'O'),\n",
       "  ('.', ['.'], 'O')],\n",
       " [('Peter', ['P', 'e', 't', 'e', 'r'], 'B-PER'),\n",
       "  ('Blackburn', ['B', 'l', 'a', 'c', 'k', 'b', 'u', 'r', 'n'], 'I-PER')],\n",
       " [('BRUSSELS', ['B', 'R', 'U', 'S', 'S', 'E', 'L', 'S'], 'B-LOC'),\n",
       "  ('1996-08-22', ['1', '9', '9', '6', '-', '0', '8', '-', '2', '2'], 'O')]]"
      ]
     },
     "execution_count": 6,
     "metadata": {},
     "output_type": "execute_result"
    }
   ],
   "source": [
    "# Sample view of how extracted data looks like\n",
    "sentences_train[:3]"
   ]
  },
  {
   "cell_type": "markdown",
   "metadata": {
    "id": "Fv5t-mqoj6FT"
   },
   "source": [
    "Next we will use the gloVe embeddings file to map each of the words that is present in our dataset to gloVe embeddings. word2idx dictionary stores a mapping from a word to an integer index. word_embeddings dictionary on the other hand, stores a mapping from its corresponding integer index from word2idx to its gloVe embedding. Each of the embedding that we use here are 50 dimensional. We use the embeddings here that are trained on 6 billion wikipedia articles. This data is very extensive and covers a wide range of domains and fields which is why it is appropriate to use this embeddings for our usecase."
   ]
  },
  {
   "cell_type": "code",
   "execution_count": 7,
   "metadata": {
    "colab": {
     "base_uri": "https://localhost:8080/"
    },
    "id": "RkKZ4ChmVkLb",
    "outputId": "aeab794a-24ad-4543-f7bc-cecdc6c4d3b0"
   },
   "outputs": [
    {
     "name": "stderr",
     "output_type": "stream",
     "text": [
      "generating word embeddings dict...: 400000it [00:11, 34733.39it/s]\n"
     ]
    }
   ],
   "source": [
    "word2idx = {}\n",
    "word_embeddings = []\n",
    "\n",
    "# add \"PAD\" and \"UNK\" word tokens\n",
    "word2idx[\"PAD\"] = 0     # \"PAD\" word is mapped to index 0\n",
    "# zero vector is kept as embedding for 'PAD' word\n",
    "vector = np.zeros(GloVe_emb_dim)  \n",
    "word_embeddings.append(vector)\n",
    "\n",
    "word2idx[\"UNK\"] = 1     # \"UNK\" word is mapped to index 1\n",
    "# vector generated from a uniform distribution is kept as embedding for 'UNK' \n",
    "# word. This word is used for unknown words\n",
    "vector = np.random.uniform(-0.25, 0.25, GloVe_emb_dim) \n",
    "word_embeddings.append(vector)\n",
    "\n",
    "# load gloVe word embeddings into word_embeddings dictionary while populating \n",
    "# word2idx dictionary at the same time\n",
    "with open(glove_embeddings_filepath, encoding=\"utf-8\") as fin:\n",
    "    # iterate through each word in gloVe embeddings file. tqdm is used for \n",
    "    # visualizing progress\n",
    "    for line in tqdm(fin, desc=\"generating word embeddings dict...\"):\n",
    "        split = line.strip().split(\" \")\n",
    "        word = split[0]  # embedding word entry\n",
    "\n",
    "        if split[0].lower() in words:\n",
    "            vector = np.array([float(num) for num in split[1:]])\n",
    "            word_embeddings.append(vector)  # word embedding vector\n",
    "            word2idx[split[0]] = len(word2idx)  # corresponding word dict\n",
    "\n",
    "word_embeddings = np.array(word_embeddings)"
   ]
  },
  {
   "cell_type": "markdown",
   "metadata": {
    "id": "XXSyccAWmFyg"
   },
   "source": [
    "Now using word2idx and word_embeddings dictionary, we can easily fetch the gloVe embedding for a word that occurs in our data. For example, let us consider the word 'california' To find out its embedding, we can do as follows:"
   ]
  },
  {
   "cell_type": "code",
   "execution_count": 8,
   "metadata": {
    "colab": {
     "base_uri": "https://localhost:8080/"
    },
    "id": "miQeZQrxnNu5",
    "outputId": "f2272c88-2454-4a8e-dc69-1c601dfea856"
   },
   "outputs": [
    {
     "data": {
      "text/plain": [
       "array([-0.094576,  0.12842 , -0.099356,  0.46342 , -0.99674 , -0.041353,\n",
       "       -1.815   , -0.20399 ,  0.69405 ,  0.056446, -0.51808 , -0.73496 ,\n",
       "        0.97266 , -0.42734 ,  0.14013 , -0.5512  , -0.29905 ,  0.5736  ,\n",
       "       -0.33651 , -0.47473 , -0.23651 , -0.2431  , -0.56144 ,  0.2039  ,\n",
       "       -0.60267 , -1.9407  , -0.084779, -0.079509, -0.26599 , -0.59215 ,\n",
       "        2.596   , -0.84078 , -0.78666 , -1.2118  ,  0.34527 , -0.89909 ,\n",
       "       -0.80615 ,  0.030595,  1.3677  , -0.41649 , -1.2243  ,  0.33881 ,\n",
       "        0.38883 ,  0.076045, -0.54893 ,  0.52766 , -0.084278, -0.81387 ,\n",
       "       -0.19385 ,  0.84154 ])"
      ]
     },
     "execution_count": 8,
     "metadata": {},
     "output_type": "execute_result"
    }
   ],
   "source": [
    "word_embeddings[word2idx['california']]"
   ]
  },
  {
   "cell_type": "markdown",
   "metadata": {
    "id": "IXKeJE5VnP24"
   },
   "source": [
    "To make our model more robust and improve its efficiency while performing named entity recognition, we generate features from the casing of the words. Each word that occurs in the dataset are mapped to one of the following types:\n",
    "\n",
    "\n",
    "*   **NUMERIC**: Words wherein all the characters of the word are numeric (eg. 2050)\n",
    "*   **LOWER**: Words wherein all characters of the word are in lowercase (eg. happy)\n",
    "*   **UPPER**: Words wherein all characters of the word are in uppercase (eg. USA)\n",
    "*   **TITLE**: Words wherein the first character is in uppercase and rest in lowercase (eg. Stanford)\n",
    "\n",
    "*   **OTHER**: All words that do not belong to any of the other types. (eg. /{?)\n",
    "*   **MAJORITY_NUMERIC**: All words wherein majority of the characters are numeric (eg. S20)\n",
    "*   **CONTAINS_DIGIT**: All words where there are numeric characters and numeric characters are not in majority. (eg. Apollo13)\n",
    "*   **PAD**: Padding words\n",
    "\n",
    "Each casing type is represented by an integer index and is stored in the case2idx dictionary."
   ]
  },
  {
   "cell_type": "code",
   "execution_count": 9,
   "metadata": {
    "id": "1TcyJghmVezF"
   },
   "outputs": [],
   "source": [
    "# mapping for word casing features\n",
    "case2idx = {'NUMERIC': 0, 'LOWER': 1, 'UPPER': 2, 'TITLE': 3, 'OTHER': 4, 'MAJORITY_NUMERIC': 5,\n",
    "            'CONTAINS_DIGIT': 6, 'PAD': 7}\n",
    "\n",
    "case_embeddings = np.identity(len(case2idx), dtype='float32')  # identity matrix used\n",
    "\n",
    "# function to generate casing features so that model can learn from different patterns in words\n",
    "def get_casing(word, case_idx_dict):\n",
    "    casing = 'OTHER'\n",
    "\n",
    "    numDigits = 0\n",
    "    for char in word:\n",
    "        if char.isdigit():\n",
    "            numDigits += 1\n",
    "\n",
    "    digits_frac = numDigits / float(len(word))\n",
    "\n",
    "    if word.isdigit():  # Is a digit\n",
    "        casing = 'NUMERIC'\n",
    "    elif digits_frac > 0.5:\n",
    "        casing = 'MAJORITY_NUMERIC'\n",
    "    elif word.islower():  # All lower case\n",
    "        casing = 'LOWER'\n",
    "    elif word.isupper():  # All upper case\n",
    "        casing = 'UPPER'\n",
    "    elif word[0].isupper():  # is a title, initial char upper, then all lower\n",
    "        casing = 'TITLE'\n",
    "    elif numDigits > 0:\n",
    "        casing = 'CONTAINS_DIGIT'\n",
    "\n",
    "    return case_idx_dict[casing]"
   ]
  },
  {
   "cell_type": "markdown",
   "metadata": {
    "id": "E4yTYh3DrzQB"
   },
   "source": [
    "We add all the features that we generated (word, case, character features) together along with its corresponding NER tag. Each of the train, test and validation data is processed and dataset contating all features we need for training is generated."
   ]
  },
  {
   "cell_type": "code",
   "execution_count": 10,
   "metadata": {
    "colab": {
     "base_uri": "https://localhost:8080/"
    },
    "id": "aJfP1zd5Vkpi",
    "outputId": "6c9982dd-59eb-464d-8161-2bf3a502d6e1"
   },
   "outputs": [
    {
     "name": "stderr",
     "output_type": "stream",
     "text": [
      "3it [00:04,  1.49s/it]\n"
     ]
    }
   ],
   "source": [
    "train_set, test_set, val_set = [], [], []\n",
    "\n",
    "# generates matrices for train, test and val data with 1 entry -> list of 4 elements: word indices, case indices, character indices, label indices\n",
    "for dataset, data in tqdm(zip([train_set, test_set, val_set], [sentences_train, sentences_test, sentences_val])):\n",
    "    word_count = 0\n",
    "    unk_word_count = 0\n",
    "    \n",
    "    for sentence in data:\n",
    "        word_indices, case_indices, char_indices, tag_indices = [], [], [], []\n",
    "\n",
    "        for word, char, tag in sentence:\n",
    "            word_count += 1\n",
    "            if word in word2idx:\n",
    "                word_idx = word2idx[word]\n",
    "            elif word.lower() in word2idx:\n",
    "                word_idx = word2idx[word.lower()]\n",
    "            else:\n",
    "                word_idx = word2idx[\"UNK\"]\n",
    "                unk_word_count += 1\n",
    "            char_idx = []\n",
    "            for x in char:\n",
    "                char_idx.append(char2idx[x])\n",
    "                \n",
    "            # Get the label and map to int\n",
    "            word_indices.append(word_idx)\n",
    "            case_indices.append(get_casing(word, case2idx))\n",
    "            char_indices.append(char_idx)\n",
    "            tag_indices.append(tag2idx[tag])\n",
    "\n",
    "        dataset.append([word_indices, case_indices, char_indices, tag_indices])"
   ]
  },
  {
   "cell_type": "code",
   "execution_count": 11,
   "metadata": {
    "id": "bWZz2ARsVl5I"
   },
   "outputs": [],
   "source": [
    "# Each of the words are padded to MAX_CHAR_LEN length which we defined earlier in the notebook.\n",
    "# This is done so as to make the length of each word same before passing the data to the model.\n",
    "def padding(sentences):\n",
    "    for i, sentence in enumerate(sentences):\n",
    "        sentences[i][2] = pad_sequences(sentences[i][2], MAX_CHAR_LEN, padding='post')\n",
    "    return sentences\n",
    "\n",
    "train_set = padding(train_set)\n",
    "test_set = padding(test_set)\n",
    "val_set = padding(val_set)"
   ]
  },
  {
   "cell_type": "markdown",
   "metadata": {
    "id": "QX9FSp9ss4D7"
   },
   "source": [
    "Now that we have generated all necessary features and prepared our train, test, val sets for training, we will see what information each of the instance in our set encodes. Lets pick a random index 39 and see how its generated features look like when we decode the numeric values back to human readable form:"
   ]
  },
  {
   "cell_type": "code",
   "execution_count": 12,
   "metadata": {
    "colab": {
     "base_uri": "https://localhost:8080/"
    },
    "id": "EdyPHJyWVsga",
    "outputId": "664853ea-568f-4326-c73d-2378d5103c55"
   },
   "outputs": [
    {
     "name": "stdout",
     "output_type": "stream",
     "text": [
      "('china', 'TITLE', ['C', 'h', 'i', 'n', 'a'], 'B-LOC')\n",
      "('has', 'LOWER', ['h', 'a', 's'], 'O')\n",
      "('said', 'LOWER', ['s', 'a', 'i', 'd'], 'O')\n",
      "('it', 'LOWER', ['i', 't'], 'O')\n",
      "('was', 'LOWER', ['w', 'a', 's'], 'O')\n",
      "('time', 'LOWER', ['t', 'i', 'm', 'e'], 'O')\n",
      "('for', 'LOWER', ['f', 'o', 'r'], 'O')\n",
      "('political', 'LOWER', ['p', 'o', 'l', 'i', 't', 'i', 'c', 'a', 'l'], 'O')\n",
      "('talks', 'LOWER', ['t', 'a', 'l', 'k', 's'], 'O')\n",
      "('with', 'LOWER', ['w', 'i', 't', 'h'], 'O')\n",
      "('taiwan', 'TITLE', ['T', 'a', 'i', 'w', 'a', 'n'], 'B-LOC')\n",
      "('and', 'LOWER', ['a', 'n', 'd'], 'O')\n",
      "('that', 'LOWER', ['t', 'h', 'a', 't'], 'O')\n",
      "('the', 'LOWER', ['t', 'h', 'e'], 'O')\n",
      "('rival', 'LOWER', ['r', 'i', 'v', 'a', 'l'], 'O')\n",
      "('island', 'LOWER', ['i', 's', 'l', 'a', 'n', 'd'], 'O')\n",
      "('should', 'LOWER', ['s', 'h', 'o', 'u', 'l', 'd'], 'O')\n",
      "('take', 'LOWER', ['t', 'a', 'k', 'e'], 'O')\n",
      "('practical', 'LOWER', ['p', 'r', 'a', 'c', 't', 'i', 'c', 'a', 'l'], 'O')\n",
      "('steps', 'LOWER', ['s', 't', 'e', 'p', 's'], 'O')\n",
      "('towards', 'LOWER', ['t', 'o', 'w', 'a', 'r', 'd', 's'], 'O')\n",
      "('that', 'LOWER', ['t', 'h', 'a', 't'], 'O')\n",
      "('goal', 'LOWER', ['g', 'o', 'a', 'l'], 'O')\n",
      "('.', 'OTHER', ['.'], 'O')\n"
     ]
    }
   ],
   "source": [
    "idx2case = {v: k for k,v in case2idx.items()}\n",
    "idx2char = {v: k for k,v in char2idx.items()}\n",
    "idx2word = {v: k for k,v in word2idx.items()}\n",
    "\n",
    "\n",
    "idx = 39\n",
    "for i, j, k, l in zip(train_set[idx][0], train_set[idx][1], train_set[idx][2], train_set[idx][3]):\n",
    "    print((idx2word[i], idx2case[j], [idx2char[c] for c in k if c != 0], idx2tag[l]))"
   ]
  },
  {
   "cell_type": "markdown",
   "metadata": {
    "id": "oS5TXplFuCt6"
   },
   "source": [
    "We divide our training data in batches which speeds up the training process. Basically, we use bucketing to achieve a speed up in the model training. We consider the length of the sentences and accordingly prepare batches.\n"
   ]
  },
  {
   "cell_type": "code",
   "execution_count": 13,
   "metadata": {
    "id": "rlI80UQFVuEl"
   },
   "outputs": [],
   "source": [
    "# Function to generate batches of feature extracted data\n",
    "def generate_batches(data):\n",
    "    l = []\n",
    "    for i in data:\n",
    "        l.append(len(i[0]))\n",
    "    l = set(l)\n",
    "    batches, batch_len = [], []\n",
    "    z = 0\n",
    "    for i in l:\n",
    "        for batch in data:\n",
    "            if len(batch[0]) == i:\n",
    "                batches.append(batch)\n",
    "                z += 1\n",
    "        batch_len.append(z)\n",
    "    return batches, batch_len\n",
    "\n",
    "# Function that is used to iterate through the generate batches while training\n",
    "def iterate_minibatches(dataset, batch_len):\n",
    "    start = 0\n",
    "    for i in batch_len:\n",
    "        tokens = []\n",
    "        casing = []\n",
    "        char = []\n",
    "        labels = []\n",
    "        data = dataset[start:i]\n",
    "        start = i\n",
    "        for dt in data:\n",
    "            t, c, ch, l = dt\n",
    "            l = np.expand_dims(l, -1)\n",
    "            tokens.append(t)\n",
    "            casing.append(c)\n",
    "            char.append(ch)\n",
    "            labels.append(l)\n",
    "        \n",
    "        yield np.asarray(labels), np.asarray(tokens), np.asarray(casing), np.asarray(char)"
   ]
  },
  {
   "cell_type": "code",
   "execution_count": 14,
   "metadata": {
    "id": "FrK1764CVwSX"
   },
   "outputs": [],
   "source": [
    "# We generate batches for our train, test and val sets\n",
    "train_batch, train_batch_len = generate_batches(train_set)\n",
    "test_batch, test_batch_len = generate_batches(test_set)\n",
    "val_batch, val_batch_len = generate_batches(val_set)"
   ]
  },
  {
   "cell_type": "markdown",
   "metadata": {
    "id": "NxoEMGELqo3f"
   },
   "source": [
    "# **Model Architecture**"
   ]
  },
  {
   "cell_type": "markdown",
   "metadata": {
    "id": "4AxjD_0Qv7AW"
   },
   "source": [
    "We define the parameters of the model as well as the architecture of the model. We use a RNN architecture here to train our NER model. Using CNN and Bidirectional LSTM layers that can capture information in both forward and backward direction, we build a model and train it for 35 epochs using the features we generated above from the dataset. We can see a general overview of how the model is built from the model summary that is printed below. We use the sparse_categorical_crossentropy loss function for training our model. For optimizer, we use NADAM which is a variation on the well known ADAM optimizer."
   ]
  },
  {
   "cell_type": "code",
   "execution_count": 15,
   "metadata": {
    "colab": {
     "base_uri": "https://localhost:8080/"
    },
    "id": "XZ6Hgf_ZVx0g",
    "outputId": "e8a9d774-3168-4a2c-f9b4-07f89cb4ca29"
   },
   "outputs": [
    {
     "name": "stderr",
     "output_type": "stream",
     "text": [
      "2022-05-14 10:21:54.512191: E tensorflow/stream_executor/cuda/cuda_driver.cc:271] failed call to cuInit: CUDA_ERROR_UNKNOWN: unknown error\n",
      "2022-05-14 10:21:54.512266: I tensorflow/stream_executor/cuda/cuda_diagnostics.cc:169] retrieving CUDA diagnostic information for host: ThinkPad-P15s\n",
      "2022-05-14 10:21:54.512282: I tensorflow/stream_executor/cuda/cuda_diagnostics.cc:176] hostname: ThinkPad-P15s\n",
      "2022-05-14 10:21:54.512458: I tensorflow/stream_executor/cuda/cuda_diagnostics.cc:200] libcuda reported version is: 510.47.3\n",
      "2022-05-14 10:21:54.512507: I tensorflow/stream_executor/cuda/cuda_diagnostics.cc:204] kernel reported version is: 510.47.3\n",
      "2022-05-14 10:21:54.512520: I tensorflow/stream_executor/cuda/cuda_diagnostics.cc:310] kernel version seems to match DSO: 510.47.3\n",
      "2022-05-14 10:21:54.513093: I tensorflow/core/platform/cpu_feature_guard.cc:151] This TensorFlow binary is optimized with oneAPI Deep Neural Network Library (oneDNN) to use the following CPU instructions in performance-critical operations:  AVX2 AVX512F FMA\n",
      "To enable them in other operations, rebuild TensorFlow with the appropriate compiler flags.\n"
     ]
    },
    {
     "name": "stdout",
     "output_type": "stream",
     "text": [
      "Model: \"model\"\n",
      "__________________________________________________________________________________________________\n",
      " Layer (type)                   Output Shape         Param #     Connected to                     \n",
      "==================================================================================================\n",
      " character_input (InputLayer)   [(None, None, 52)]   0           []                               \n",
      "                                                                                                  \n",
      " Character_embedding (TimeDistr  (None, None, 52, 30  2640       ['character_input[0][0]']        \n",
      " ibuted)                        )                                                                 \n",
      "                                                                                                  \n",
      " dropout (Dropout)              (None, None, 52, 30  0           ['Character_embedding[0][0]']    \n",
      "                                )                                                                 \n",
      "                                                                                                  \n",
      " Convolution (TimeDistributed)  (None, None, 52, 30  2730        ['dropout[0][0]']                \n",
      "                                )                                                                 \n",
      "                                                                                                  \n",
      " Maxpool (TimeDistributed)      (None, None, 1, 30)  0           ['Convolution[0][0]']            \n",
      "                                                                                                  \n",
      " words_input (InputLayer)       [(None, None)]       0           []                               \n",
      "                                                                                                  \n",
      " casing_input (InputLayer)      [(None, None)]       0           []                               \n",
      "                                                                                                  \n",
      " flatten_layer (TimeDistributed  (None, None, 30)    0           ['Maxpool[0][0]']                \n",
      " )                                                                                                \n",
      "                                                                                                  \n",
      " embedding_1 (Embedding)        (None, None, 50)     1147450     ['words_input[0][0]']            \n",
      "                                                                                                  \n",
      " embedding_2 (Embedding)        (None, None, 8)      64          ['casing_input[0][0]']           \n",
      "                                                                                                  \n",
      " dropout_1 (Dropout)            (None, None, 30)     0           ['flatten_layer[0][0]']          \n",
      "                                                                                                  \n",
      " concatenate (Concatenate)      (None, None, 88)     0           ['embedding_1[0][0]',            \n",
      "                                                                  'embedding_2[0][0]',            \n",
      "                                                                  'dropout_1[0][0]']              \n",
      "                                                                                                  \n",
      " BiLSTM_layer (Bidirectional)   (None, None, 400)    462400      ['concatenate[0][0]']            \n",
      "                                                                                                  \n",
      " softmax_layer (TimeDistributed  (None, None, 9)     3609        ['BiLSTM_layer[0][0]']           \n",
      " )                                                                                                \n",
      "                                                                                                  \n",
      "==================================================================================================\n",
      "Total params: 1,618,893\n",
      "Trainable params: 471,379\n",
      "Non-trainable params: 1,147,514\n",
      "__________________________________________________________________________________________________\n",
      "None\n",
      "Model built...\n"
     ]
    }
   ],
   "source": [
    "# char-level input\n",
    "char_in = Input(shape=(None, 52,), name=\"character_input\")\n",
    "embed_char_out = TimeDistributed(\n",
    "    Embedding(len(char2idx), 30, embeddings_initializer=RandomUniform(minval=-0.5, maxval=0.5)), name=\"Character_embedding\")(\n",
    "    char_in)\n",
    "dropout_out = Dropout(0.5)(embed_char_out)\n",
    "\n",
    "# CNN for char-level input\n",
    "conv1d_out = TimeDistributed(Conv1D(kernel_size=3, filters=30, padding='same', activation='tanh', strides=1), name=\"Convolution\")(dropout_out)\n",
    "maxpool_out = TimeDistributed(MaxPooling1D(52), name=\"Maxpool\")(conv1d_out)\n",
    "char = TimeDistributed(Flatten(), name=\"flatten_layer\")(maxpool_out)\n",
    "char = Dropout(0.5)(char)\n",
    "\n",
    "\n",
    "# word-level input\n",
    "words_in = Input(shape=(None,), dtype='int32', name='words_input')\n",
    "words = Embedding(input_dim=word_embeddings.shape[0], output_dim=word_embeddings.shape[1], \n",
    "                  weights=[word_embeddings], trainable=False)(words_in)\n",
    "\n",
    "\n",
    "# case-info input\n",
    "casing_in = Input(shape=(None,), dtype='int32', name='casing_input')\n",
    "casing = Embedding(output_dim=case_embeddings.shape[1], input_dim=case_embeddings.shape[0], weights=[case_embeddings],\n",
    "                   trainable=False)(casing_in)\n",
    "\n",
    "\n",
    "# concat all input layers & pass it through BiLSTM layer\n",
    "x = concatenate([words, casing, char])\n",
    "x = Bidirectional(LSTM(200, return_sequences=True, \n",
    "                            dropout=0.5,                # dropout on input to each LSTM block\n",
    "                            recurrent_dropout=0.25      # dropout on recurrent input signal\n",
    "                           ), name=\"BiLSTM_layer\")(x)\n",
    "\n",
    "output = TimeDistributed(Dense(len(tag2idx), activation='softmax'), name=\"softmax_layer\")(x)\n",
    "\n",
    "# Build and compile the model\n",
    "model = Model(inputs=[words_in, casing_in, char_in], outputs=[output])\n",
    "model.compile(loss='sparse_categorical_crossentropy', optimizer=Nadam())\n",
    "\n",
    "print(model.summary())\n",
    "print(\"Model built...\")"
   ]
  },
  {
   "cell_type": "markdown",
   "metadata": {
    "id": "NzD_WiYR4Oma"
   },
   "source": [
    "Now that our model is built and initialized, we write some utility functions that helps us during training, predicting and evaluating steps."
   ]
  },
  {
   "cell_type": "code",
   "execution_count": 16,
   "metadata": {
    "id": "TH469rhFVzG5"
   },
   "outputs": [],
   "source": [
    "# Function to make predictions on a set of data. Returns the predicted labels\n",
    "# as well as the true labels in integer indexes\n",
    "def predict(dataset):\n",
    "    true_labels, pred_labels = [], []\n",
    "    for i, data in enumerate(dataset):\n",
    "        tokens, casing, char, labels = data\n",
    "        tokens = np.asarray([tokens])\n",
    "        casing = np.asarray([casing])\n",
    "        char = np.asarray([char])\n",
    "        pred = model.predict([tokens, casing, char], verbose=False)[0]\n",
    "        pred = pred.argmax(axis=-1)  # Predict the classes\n",
    "        true_labels.append(labels)\n",
    "        pred_labels.append(pred)\n",
    "    return pred_labels, true_labels"
   ]
  },
  {
   "cell_type": "code",
   "execution_count": 17,
   "metadata": {
    "id": "p8RDF_SaV08I"
   },
   "outputs": [],
   "source": [
    "# Function to generate recall and precision scores from given true labels and\n",
    "# predicted labels\n",
    "def get_score(l1, l2):\n",
    "    correct_count, count = 0, 0\n",
    "    for sent_idx in range(len(l1)):\n",
    "        l1_, l2_ = l1[sent_idx], l2[sent_idx]\n",
    "        idx = 0\n",
    "        while idx < len(l1_):\n",
    "            if l1_[idx][0] == 'B':  # a new chunk starts\n",
    "                count += 1\n",
    "                if l1_[idx] == l2_[idx]:  # first prediction correct\n",
    "                    idx += 1\n",
    "                    correct_flag = True\n",
    "                    while idx < len(l1_) and l1_[idx][0] == 'I':  # scan entire chunk\n",
    "                        if l1_[idx] != l2_[idx]:\n",
    "                            correct_flag = False\n",
    "                        idx += 1\n",
    "                    if idx < len(l1_):\n",
    "                        if l2_[idx][0] == 'I':  # chunk in l2_ was longer\n",
    "                            correct_flag = False\n",
    "                    if correct_flag:\n",
    "                        correct_count += 1\n",
    "                else:\n",
    "                    idx += 1\n",
    "            else:\n",
    "                idx += 1\n",
    "    score = 0\n",
    "    if count > 0:\n",
    "        score = float(correct_count) / count\n",
    "    return score\n",
    "\n",
    "\n",
    "# Function to compute the f1-score, precision and recall for given true and predicted labels\n",
    "def evaluate(pred_labels, true_labels):\n",
    "    p, t = [], []\n",
    "\n",
    "    for sent in true_labels:\n",
    "        p.append([idx2tag[e] for e in sent])\n",
    "    \n",
    "    for sent in pred_labels:\n",
    "        t.append([idx2tag[e] for e in sent])\n",
    "    \n",
    "    prec = get_score(p, t)\n",
    "    rec = get_score(t, p)\n",
    "\n",
    "    f1 = 0\n",
    "    if (rec + prec) > 0:\n",
    "        f1 = 2.0 * prec * rec / (prec + rec);\n",
    "\n",
    "    return prec, rec, f1"
   ]
  },
  {
   "cell_type": "markdown",
   "metadata": {
    "id": "WsgJpHiTq1li"
   },
   "source": [
    "# **Model Training**"
   ]
  },
  {
   "cell_type": "markdown",
   "metadata": {
    "id": "Wuwd8zK44wbY"
   },
   "source": [
    "Since everything is now prepared and generated, we can move ahead to training our model with the training set we generated. We train the model with data in batches and for 35 epochs while observing the f1 score, precision and recall values for the test set and val set. After training is completed, we save the model as a whole as well as the trained model weights. These are used later in the notebook to load the trained model without having to train the model again."
   ]
  },
  {
   "cell_type": "code",
   "execution_count": 18,
   "metadata": {
    "colab": {
     "base_uri": "https://localhost:8080/"
    },
    "id": "WHruuEKs0pJs",
    "outputId": "1b7fdef9-4ebf-4c83-c11c-552d57c1bbe1"
   },
   "outputs": [
    {
     "name": "stdout",
     "output_type": "stream",
     "text": [
      "====================\n",
      "Epoch 0/35\n",
      "TEST SET: f1_score: 0.2101\tprecision: 0.4581\trecall: 0.1363\n",
      "VALIDATION SET: f1_score: 0.2263\tprecision: 0.5314\trecall: 0.1437\n",
      "Time taken: 672.8609082698822 secs\n",
      "\n",
      "====================\n",
      "Epoch 1/35\n",
      "TEST SET: f1_score: 0.5222\tprecision: 0.5835\trecall: 0.4726\n",
      "VALIDATION SET: f1_score: 0.5592\tprecision: 0.6599\trecall: 0.4852\n",
      "Time taken: 561.6324527263641 secs\n",
      "\n",
      "====================\n",
      "Epoch 2/35\n",
      "TEST SET: f1_score: 0.618\tprecision: 0.6487\trecall: 0.5901\n",
      "VALIDATION SET: f1_score: 0.6449\tprecision: 0.7064\trecall: 0.5932\n",
      "Time taken: 556.3135664463043 secs\n",
      "\n",
      "====================\n",
      "Epoch 3/35\n",
      "TEST SET: f1_score: 0.7029\tprecision: 0.7173\trecall: 0.6891\n",
      "VALIDATION SET: f1_score: 0.7211\tprecision: 0.7512\trecall: 0.6932\n",
      "Time taken: 583.7018115520477 secs\n",
      "\n",
      "====================\n",
      "Epoch 4/35\n",
      "TEST SET: f1_score: 0.6941\tprecision: 0.6811\trecall: 0.7075\n",
      "VALIDATION SET: f1_score: 0.718\tprecision: 0.7251\trecall: 0.711\n",
      "Time taken: 516.9007081985474 secs\n",
      "\n",
      "====================\n",
      "Epoch 5/35\n",
      "TEST SET: f1_score: 0.7293\tprecision: 0.7465\trecall: 0.7128\n",
      "VALIDATION SET: f1_score: 0.7352\tprecision: 0.766\trecall: 0.7068\n",
      "Time taken: 519.2690484523773 secs\n",
      "\n",
      "====================\n",
      "Epoch 6/35\n",
      "TEST SET: f1_score: 0.7766\tprecision: 0.7766\trecall: 0.7766\n",
      "VALIDATION SET: f1_score: 0.7832\tprecision: 0.7958\trecall: 0.7711\n",
      "Time taken: 509.0105426311493 secs\n",
      "\n",
      "====================\n",
      "Epoch 7/35\n",
      "TEST SET: f1_score: 0.7729\tprecision: 0.7679\trecall: 0.778\n",
      "VALIDATION SET: f1_score: 0.7758\tprecision: 0.7842\trecall: 0.7676\n",
      "Time taken: 510.7301254272461 secs\n",
      "\n",
      "====================\n",
      "Epoch 8/35\n",
      "TEST SET: f1_score: 0.774\tprecision: 0.7562\trecall: 0.7927\n",
      "VALIDATION SET: f1_score: 0.7784\tprecision: 0.7731\trecall: 0.7837\n",
      "Time taken: 504.1189136505127 secs\n",
      "\n",
      "====================\n",
      "Epoch 9/35\n",
      "TEST SET: f1_score: 0.7901\tprecision: 0.7939\trecall: 0.7863\n",
      "VALIDATION SET: f1_score: 0.799\tprecision: 0.8116\trecall: 0.7868\n",
      "Time taken: 503.0915598869324 secs\n",
      "\n",
      "====================\n",
      "Epoch 10/35\n",
      "TEST SET: f1_score: 0.7899\tprecision: 0.7888\trecall: 0.7909\n",
      "VALIDATION SET: f1_score: 0.7962\tprecision: 0.8017\trecall: 0.7908\n",
      "Time taken: 501.2762682437897 secs\n",
      "\n",
      "====================\n",
      "Epoch 11/35\n",
      "TEST SET: f1_score: 0.8032\tprecision: 0.8036\trecall: 0.8028\n",
      "VALIDATION SET: f1_score: 0.8195\tprecision: 0.8284\trecall: 0.8108\n",
      "Time taken: 502.03165674209595 secs\n",
      "\n",
      "====================\n",
      "Epoch 12/35\n",
      "TEST SET: f1_score: 0.8085\tprecision: 0.8057\trecall: 0.8113\n",
      "VALIDATION SET: f1_score: 0.8238\tprecision: 0.8273\trecall: 0.8204\n",
      "Time taken: 495.7826476097107 secs\n",
      "\n",
      "====================\n",
      "Epoch 13/35\n",
      "TEST SET: f1_score: 0.7806\tprecision: 0.7712\trecall: 0.7902\n",
      "VALIDATION SET: f1_score: 0.7989\tprecision: 0.7951\trecall: 0.8028\n",
      "Time taken: 502.865695476532 secs\n",
      "\n",
      "====================\n",
      "Epoch 14/35\n",
      "TEST SET: f1_score: 0.8208\tprecision: 0.8209\trecall: 0.8206\n",
      "VALIDATION SET: f1_score: 0.8418\tprecision: 0.8464\trecall: 0.8373\n",
      "Time taken: 495.0561602115631 secs\n",
      "\n",
      "====================\n",
      "Epoch 15/35\n",
      "TEST SET: f1_score: 0.8232\tprecision: 0.8149\trecall: 0.8316\n",
      "VALIDATION SET: f1_score: 0.8339\tprecision: 0.8312\trecall: 0.8368\n",
      "Time taken: 497.27668356895447 secs\n",
      "\n",
      "====================\n",
      "Epoch 16/35\n",
      "TEST SET: f1_score: 0.8366\tprecision: 0.8375\trecall: 0.8357\n",
      "VALIDATION SET: f1_score: 0.8465\tprecision: 0.8498\trecall: 0.8433\n",
      "Time taken: 503.0236699581146 secs\n",
      "\n",
      "====================\n",
      "Epoch 17/35\n",
      "TEST SET: f1_score: 0.8275\tprecision: 0.8241\trecall: 0.8309\n",
      "VALIDATION SET: f1_score: 0.8428\tprecision: 0.8436\trecall: 0.8421\n",
      "Time taken: 504.5014729499817 secs\n",
      "\n",
      "====================\n",
      "Epoch 18/35\n",
      "TEST SET: f1_score: 0.8376\tprecision: 0.8312\trecall: 0.844\n",
      "VALIDATION SET: f1_score: 0.8544\tprecision: 0.8525\trecall: 0.8563\n",
      "Time taken: 506.802734375 secs\n",
      "\n",
      "====================\n",
      "Epoch 19/35\n",
      "TEST SET: f1_score: 0.8422\tprecision: 0.8387\trecall: 0.8458\n",
      "VALIDATION SET: f1_score: 0.8588\tprecision: 0.858\trecall: 0.8595\n",
      "Time taken: 510.068265914917 secs\n",
      "\n",
      "====================\n",
      "Epoch 20/35\n",
      "TEST SET: f1_score: 0.8435\tprecision: 0.8449\trecall: 0.8421\n",
      "VALIDATION SET: f1_score: 0.8583\tprecision: 0.8611\trecall: 0.8556\n",
      "Time taken: 508.603120803833 secs\n",
      "\n",
      "====================\n",
      "Epoch 21/35\n",
      "TEST SET: f1_score: 0.8415\tprecision: 0.8401\trecall: 0.843\n",
      "VALIDATION SET: f1_score: 0.8609\tprecision: 0.8629\trecall: 0.859\n",
      "Time taken: 510.2081301212311 secs\n",
      "\n",
      "====================\n",
      "Epoch 22/35\n",
      "TEST SET: f1_score: 0.8428\tprecision: 0.8361\trecall: 0.8497\n",
      "VALIDATION SET: f1_score: 0.8643\tprecision: 0.8599\trecall: 0.8687\n",
      "Time taken: 511.83845949172974 secs\n",
      "\n",
      "====================\n",
      "Epoch 23/35\n",
      "TEST SET: f1_score: 0.842\tprecision: 0.8431\trecall: 0.841\n",
      "VALIDATION SET: f1_score: 0.8621\tprecision: 0.8633\trecall: 0.8608\n",
      "Time taken: 514.256618976593 secs\n",
      "\n",
      "====================\n",
      "Epoch 24/35\n",
      "TEST SET: f1_score: 0.8494\tprecision: 0.8435\trecall: 0.8553\n",
      "VALIDATION SET: f1_score: 0.87\tprecision: 0.8654\trecall: 0.8746\n",
      "Time taken: 509.77412509918213 secs\n",
      "\n",
      "====================\n",
      "Epoch 25/35\n",
      "TEST SET: f1_score: 0.85\tprecision: 0.8487\trecall: 0.8513\n",
      "VALIDATION SET: f1_score: 0.8704\tprecision: 0.8693\trecall: 0.8716\n",
      "Time taken: 509.1103458404541 secs\n",
      "\n",
      "====================\n",
      "Epoch 26/35\n",
      "TEST SET: f1_score: 0.8488\tprecision: 0.8538\trecall: 0.8438\n",
      "VALIDATION SET: f1_score: 0.8665\tprecision: 0.8725\trecall: 0.8605\n",
      "Time taken: 505.53935146331787 secs\n",
      "\n",
      "====================\n",
      "Epoch 27/35\n",
      "TEST SET: f1_score: 0.8463\tprecision: 0.8407\trecall: 0.852\n",
      "VALIDATION SET: f1_score: 0.8607\tprecision: 0.8576\trecall: 0.8639\n",
      "Time taken: 630.9398262500763 secs\n",
      "\n",
      "====================\n",
      "Epoch 28/35\n",
      "TEST SET: f1_score: 0.8544\tprecision: 0.8492\trecall: 0.8596\n",
      "VALIDATION SET: f1_score: 0.8784\tprecision: 0.8757\trecall: 0.8812\n",
      "Time taken: 552.8267412185669 secs\n",
      "\n",
      "====================\n",
      "Epoch 29/35\n",
      "TEST SET: f1_score: 0.86\tprecision: 0.8606\trecall: 0.8594\n",
      "VALIDATION SET: f1_score: 0.885\tprecision: 0.8867\trecall: 0.8834\n",
      "Time taken: 629.2733747959137 secs\n",
      "\n",
      "====================\n",
      "Epoch 30/35\n",
      "TEST SET: f1_score: 0.8508\tprecision: 0.8501\trecall: 0.8515\n",
      "VALIDATION SET: f1_score: 0.8768\tprecision: 0.8772\trecall: 0.8765\n",
      "Time taken: 587.4337944984436 secs\n",
      "\n",
      "====================\n",
      "Epoch 31/35\n",
      "TEST SET: f1_score: 0.8512\tprecision: 0.8457\trecall: 0.8568\n",
      "VALIDATION SET: f1_score: 0.8731\tprecision: 0.8695\trecall: 0.8768\n",
      "Time taken: 522.0349729061127 secs\n",
      "\n",
      "====================\n",
      "Epoch 32/35\n",
      "TEST SET: f1_score: 0.861\tprecision: 0.8588\trecall: 0.8633\n",
      "VALIDATION SET: f1_score: 0.8863\tprecision: 0.8853\trecall: 0.8872\n",
      "Time taken: 564.2132713794708 secs\n",
      "\n",
      "====================\n",
      "Epoch 33/35\n",
      "TEST SET: f1_score: 0.8618\tprecision: 0.8625\trecall: 0.861\n",
      "VALIDATION SET: f1_score: 0.8935\tprecision: 0.8957\trecall: 0.8913\n",
      "Time taken: 617.8566787242889 secs\n",
      "\n",
      "====================\n",
      "Epoch 34/35\n",
      "TEST SET: f1_score: 0.8556\tprecision: 0.8519\trecall: 0.8594\n",
      "VALIDATION SET: f1_score: 0.8817\tprecision: 0.8796\trecall: 0.8839\n",
      "Time taken: 632.4093899726868 secs\n",
      "\n",
      "Final F1 test score:  0.8556319407720784\n",
      "Training complete.\n",
      "Model and model weights saved.\n"
     ]
    }
   ],
   "source": [
    "f1_test_history = []\n",
    "f1_val_history = []\n",
    "\n",
    "epochs = 35\n",
    "\n",
    "for epoch in range(epochs):\n",
    "    start_time = time()\n",
    "    print(\"=\" * 20)\n",
    "    print(f\"Epoch {epoch}/{epochs}\")\n",
    "    for i, batch in enumerate(iterate_minibatches(train_batch, train_batch_len)):\n",
    "        labels, tokens, casing, char = batch       \n",
    "        model.train_on_batch([tokens, casing, char], labels)\n",
    "    \n",
    "    # evaluate on test set and validation set\n",
    "    pred_labels, true_labels = predict(test_batch)\n",
    "    pre_test, rec_test, f1_test = evaluate(pred_labels, true_labels)\n",
    "    f1_test_history.append(f1_test)\n",
    "    print(f\"TEST SET: f1_score: {round(f1_test, 4)}\\tprecision: {round(pre_test, 4)}\\trecall: {round(rec_test, 4)}\")\n",
    "    \n",
    "    pred_labels, true_labels = predict(val_batch)\n",
    "    pre_val, rec_val, f1_val = evaluate(pred_labels, true_labels)\n",
    "    f1_val_history.append(f1_val)\n",
    "    print(f\"VALIDATION SET: f1_score: {round(f1_val, 4)}\\tprecision: {round(pre_val, 4)}\\trecall: {round(rec_val, 4)}\")\n",
    "    \n",
    "    print(f\"Time taken: {time() - start_time} secs\\n\")\n",
    "\n",
    "print(\"Final F1 test score: \", f1_test)\n",
    "\n",
    "print(\"Training complete.\")\n",
    "\n",
    "# save model\n",
    "model_name = f\"BiLSTM_CNN_{optimizer.__class__.__name__}\"\n",
    "\n",
    "model.save(f\"./models/{model_name}.hdf5\")\n",
    "model.save_weights(f\"./models/{model_name}_weights.hdf5\")\n",
    "print(\"Model and model weights saved.\")"
   ]
  },
  {
   "cell_type": "markdown",
   "metadata": {
    "id": "A1NL4Afb102z"
   },
   "source": [
    "From the above log messages, we can observe that the final **f1 score** in test set is **0.855** while its **precision** and **recall** values are **0.851** and **0.859** respectively. We are getting promising evaluation metrics after training the model for just 35 epochs."
   ]
  },
  {
   "cell_type": "markdown",
   "metadata": {
    "id": "QZHg-Z_i0-5k"
   },
   "source": [
    "Now that training is complete for the 35 epochs that we ran, we can plot a figure to show how the test set and val set f1 score varies with increasing epoch numbers. Ideally, the f1 score for both test and val sets should increase we the number of epochs increases."
   ]
  },
  {
   "cell_type": "code",
   "execution_count": 23,
   "metadata": {
    "colab": {
     "base_uri": "https://localhost:8080/",
     "height": 606
    },
    "id": "6bJ6XPqFp_l3",
    "outputId": "0a55b189-6e10-451b-a7a8-2ff91536b371"
   },
   "outputs": [
    {
     "data": {
      "image/png": "[encoded data removed]",
      "text/plain": [
       "<Figure size 1080x720 with 1 Axes>"
      ]
     },
     "metadata": {
      "needs_background": "light"
     },
     "output_type": "display_data"
    }
   ],
   "source": [
    "import matplotlib.pyplot as plt\n",
    "\n",
    "plt.rcParams['figure.figsize'] = [15, 10]\n",
    "plt.plot(f1_test_history, label = \"test_set\")\n",
    "plt.plot(f1_val_history, label = \"val_set\")\n",
    "plt.xlabel(\"epochs\")\n",
    "plt.ylabel(\"f1_score\")\n",
    "plt.legend()\n",
    "plt.show()"
   ]
  },
  {
   "cell_type": "markdown",
   "metadata": {
    "id": "Tu6koZ7h1VK3"
   },
   "source": [
    "We see that with increase in the number of epoches, there is an increase in the f1 score for both test and val sets. This confirms that our model can generalize well to unknown examples. Also, it is important to note that if we increase the number of epochs for which we train the model from 35 to some big number, there is a good chance that the performance of the model will further increase. Howver, due to limitations in computational resources, we have kept the training epochs to 35."
   ]
  },
  {
   "cell_type": "markdown",
   "metadata": {
    "id": "3LFeeXDF2YN_"
   },
   "source": [
    "We will save our mapping dictionaries as joblib files so that these can be used later to get the same results. The dictionary mappings might come out to be differnent for each time we train the model. Hence, it is necessary to save the mapping dictionaries that were generated while training the model."
   ]
  },
  {
   "cell_type": "code",
   "execution_count": 19,
   "metadata": {
    "id": "Sj_J8fCeoCcS"
   },
   "outputs": [],
   "source": [
    "for idx_dict, file_name in zip([tag2idx, word2idx, char2idx, case2idx], ['tag2idx.joblib', 'word2idx.joblib', 'char2idx.joblib', 'case2idx.joblib']):\n",
    "    joblib.dump(idx_dict, f'./indexes/{file_name}')\n",
    "\n",
    "print(\"Saved index_dicts as joblib files for future use.\")"
   ]
  },
  {
   "cell_type": "markdown",
   "metadata": {
    "id": "hgH4thvsq81o"
   },
   "source": [
    "# **Model loading and testing**"
   ]
  },
  {
   "cell_type": "markdown",
   "metadata": {},
   "source": [
    "**NOTE**: If we want to load the already trained model, we need to load the index dictionaries that are present in the indexes directory alongwith the trained model."
   ]
  },
  {
   "cell_type": "code",
   "execution_count": 18,
   "metadata": {
    "colab": {
     "base_uri": "https://localhost:8080/"
    },
    "id": "YVZuNFLLlBdY",
    "outputId": "02e12a5b-4993-4e96-924d-59e2a4ca6031"
   },
   "outputs": [
    {
     "name": "stdout",
     "output_type": "stream",
     "text": [
      "Trained model successfully initialized.\n"
     ]
    }
   ],
   "source": [
    "# We can either load the whole model from our saved trained model\n",
    "model = load_model(f\"./models/BiLSTM_CNN_{optimizer.__class__.__name__}.hdf5\")\n",
    "\n",
    "# OR\n",
    "\n",
    "# We can build the model first and then load the trained weights\n",
    "# model.load_weights(f\"./models/BiLSTM_CNN_{optimizer.__class__.__name__}_weights.hdf5\")\n",
    "\n",
    "print(\"Trained model successfully initialized.\")\n",
    "\n",
    "# We also load the mapping dictionaries.\n",
    "tag2idx = joblib.load(f'./indexes/tag2idx.joblib')\n",
    "word2idx = joblib.load(f'./indexes/word2idx.joblib')\n",
    "char2idx = joblib.load(f'./indexes/char2idx.joblib')\n",
    "case2idx = joblib.load(f'./indexes/case2idx.joblib')\n",
    "\n",
    "idx2tag_ = idx2tag\n",
    "idx2tag = {v:k for k,v in tag2idx.items()}"
   ]
  },
  {
   "cell_type": "markdown",
   "metadata": {
    "id": "Y1vUGj3Gx5z7"
   },
   "source": [
    "We now randomly pick 5 examples from our test set and observe the predictions made by our trained model."
   ]
  },
  {
   "cell_type": "code",
   "execution_count": 19,
   "metadata": {},
   "outputs": [
    {
     "name": "stdout",
     "output_type": "stream",
     "text": [
      "Word           ||True ||Pred\n",
      "==============================\n",
      "stefano        : B-PER B-PER\n",
      "bordon         : I-PER I-PER\n",
      "is             : O     O\n",
      "out            : O     O\n",
      "through        : O     O\n",
      "illness        : O     O\n",
      "and            : O     O\n",
      "coste          : B-PER B-PER\n",
      "said           : O     O\n",
      "he             : O     O\n",
      "had            : O     O\n",
      "dropped        : O     O\n",
      "back           : O     O\n",
      "row            : O     O\n",
      "corrado        : B-PER B-PER\n",
      "UNK            : I-PER I-PER\n",
      ",              : O     O\n",
      "who            : O     O\n",
      "had            : O     O\n",
      "been           : O     O\n",
      "recalled       : O     O\n",
      "for            : O     O\n",
      "the            : O     O\n",
      "england        : B-LOC B-LOC\n",
      "game           : O     O\n",
      "after          : O     O\n",
      "five           : O     O\n",
      "years          : O     O\n",
      "out            : O     O\n",
      "of             : O     O\n",
      "the            : O     O\n",
      "national       : O     O\n",
      "team           : O     O\n",
      ".              : O     O\n"
     ]
    }
   ],
   "source": [
    "i = 27\n",
    "preds, true = predict([test_set[i]])\n",
    "print(\"{:15}||{:5}||{}\".format(\"Word\", \"True\", \"Pred\"))\n",
    "print(30 * \"=\")\n",
    "for w, t, pred in zip(test_set[i][0], true[0], preds[0]):\n",
    "    print(\"{:15}: {:5} {}\".format(idx2word[w], idx2tag_[t], idx2tag[pred]))"
   ]
  },
  {
   "cell_type": "markdown",
   "metadata": {},
   "source": [
    "In the above example, we can clearly see that the model got all the entities correct. It is expected as our model had reached a high score on the evaluation metrics."
   ]
  },
  {
   "cell_type": "code",
   "execution_count": 20,
   "metadata": {
    "colab": {
     "base_uri": "https://localhost:8080/"
    },
    "id": "fVPKzQtqyQcL",
    "outputId": "e9457b35-d022-4999-b3e4-2bd1f1097e33"
   },
   "outputs": [
    {
     "name": "stdout",
     "output_type": "stream",
     "text": [
      "Word           ||True ||Pred\n",
      "==============================\n",
      "plo            : B-ORG B-ORG\n",
      "negotiators    : O     O\n",
      "said           : O     O\n",
      "on             : O     O\n",
      "friday         : O     O\n",
      "palestinian    : B-MISC B-MISC\n",
      "president      : O     O\n",
      "yasser         : B-PER B-PER\n",
      "arafat         : I-PER I-PER\n",
      ",              : O     O\n",
      "israeli        : B-MISC B-MISC\n",
      "prime          : O     O\n",
      "minister       : O     O\n",
      "benjamin       : B-PER B-PER\n",
      "netanyahu      : I-PER I-PER\n",
      "and            : O     O\n",
      "egyptian       : B-MISC B-MISC\n",
      "president      : O     O\n",
      "hosni          : B-PER B-PER\n",
      "mubarak        : I-PER I-PER\n",
      "might          : O     O\n",
      "all            : O     O\n",
      "meet           : O     O\n",
      "on             : O     O\n",
      "saturday       : O     O\n",
      "to             : O     O\n",
      "try            : O     O\n",
      "to             : O     O\n",
      "clinch         : O     O\n",
      "a              : O     O\n",
      "deal           : O     O\n",
      "on             : O     O\n",
      "israel         : B-LOC B-LOC\n",
      "'s             : O     O\n",
      "handover       : O     O\n",
      "of             : O     O\n",
      "hebron         : B-LOC B-LOC\n",
      "to             : O     O\n",
      "the            : O     O\n",
      "plo            : B-ORG B-ORG\n",
      ".              : O     O\n"
     ]
    }
   ],
   "source": [
    "i = 1963\n",
    "preds, true = predict([test_set[i]])\n",
    "print(\"{:15}||{:5}||{}\".format(\"Word\", \"True\", \"Pred\"))\n",
    "print(30 * \"=\")\n",
    "for w, t, pred in zip(test_set[i][0], true[0], preds[0]):\n",
    "    print(\"{:15}: {:5} {}\".format(idx2word[w], idx2tag_[t], idx2tag[pred]))"
   ]
  },
  {
   "cell_type": "markdown",
   "metadata": {},
   "source": [
    "In the above example as well, the model got all the entities correct. It could correctly identify the name of persons even though it might not have come across those words while training."
   ]
  },
  {
   "cell_type": "code",
   "execution_count": 21,
   "metadata": {
    "colab": {
     "base_uri": "https://localhost:8080/"
    },
    "id": "ff8MlJFlzJpN",
    "outputId": "eb403db6-4d93-49c0-95f5-e4200c6d4489"
   },
   "outputs": [
    {
     "name": "stdout",
     "output_type": "stream",
     "text": [
      "Word           ||True ||Pred\n",
      "==============================\n",
      "rugby          : B-ORG B-ORG\n",
      "union          : I-ORG O\n",
      "-              : O     O\n",
      "little         : B-PER O\n",
      "to             : O     O\n",
      "miss           : O     O\n",
      "campese        : B-PER B-PER\n",
      "farewell       : O     O\n",
      ".              : O     O\n"
     ]
    }
   ],
   "source": [
    "i = 189\n",
    "preds, true = predict([test_set[i]])\n",
    "print(\"{:15}||{:5}||{}\".format(\"Word\", \"True\", \"Pred\"))\n",
    "print(30 * \"=\")\n",
    "for w, t, pred in zip(test_set[i][0], true[0], preds[0]):\n",
    "    print(\"{:15}: {:5} {}\".format(idx2word[w], idx2tag_[t], idx2tag[pred]))"
   ]
  },
  {
   "cell_type": "markdown",
   "metadata": {},
   "source": [
    "In the above example, we see that the model made an error for the word 'union'. The word 'union' is actually a part of the word 'Rugby Union'. However, the model failed to detect this particular entity. This is probably because union is a very generic word and the model failed to identify word based on its actual context use in the sentence. Other than that, the model also got 'little' wrong. In the true labels, it is tagged as a person. However because of the ambiguity around the word 'little', the model could not interpret the word correctly."
   ]
  },
  {
   "cell_type": "code",
   "execution_count": 22,
   "metadata": {
    "colab": {
     "base_uri": "https://localhost:8080/"
    },
    "id": "hqQ_OJpozP_Q",
    "outputId": "c2200025-de78-4cf5-e414-a736e08ab5a5"
   },
   "outputs": [
    {
     "name": "stdout",
     "output_type": "stream",
     "text": [
      "Word           ||True ||Pred\n",
      "==============================\n",
      "tasmania       : B-LOC B-LOC\n",
      "352            : O     O\n",
      "for            : O     O\n",
      "three          : O     O\n",
      "(              : O     O\n",
      "david          : B-PER B-PER\n",
      "boon           : I-PER I-PER\n",
      "106            : O     O\n",
      "not            : O     O\n",
      "out            : O     O\n",
      ",              : O     O\n",
      "shaun          : B-PER B-PER\n",
      "young          : I-PER I-PER\n",
      "86             : O     O\n",
      "not            : O     O\n",
      "out            : O     O\n",
      ",              : O     O\n",
      "michael        : B-PER B-PER\n",
      "divenuto       : I-PER I-PER\n",
      "119            : O     O\n",
      ")              : O     O\n",
      "v              : O     O\n",
      "victoria       : B-ORG O\n",
      ".              : O     O\n"
     ]
    }
   ],
   "source": [
    "i = 297\n",
    "preds, true = predict([test_set[i]])\n",
    "print(\"{:15}||{:5}||{}\".format(\"Word\", \"True\", \"Pred\"))\n",
    "print(30 * \"=\")\n",
    "for w, t, pred in zip(test_set[i][0], true[0], preds[0]):\n",
    "    print(\"{:15}: {:5} {}\".format(idx2word[w], idx2tag_[t], idx2tag[pred]))"
   ]
  },
  {
   "cell_type": "markdown",
   "metadata": {},
   "source": [
    "In the above example, the model got all entities correct expect for the word 'victoria' which is actually tagged as an organisation. This is again because the word 'victoria' is not very specific and could easily be taagged as a person in some other sentence as well dependng on the context of the word it is used in a sentence."
   ]
  },
  {
   "cell_type": "code",
   "execution_count": 23,
   "metadata": {
    "colab": {
     "base_uri": "https://localhost:8080/"
    },
    "id": "DMiD1oXbzSqo",
    "outputId": "6bdfc336-512d-4ab2-beb2-8d4cba80f39b"
   },
   "outputs": [
    {
     "name": "stdout",
     "output_type": "stream",
     "text": [
      "Word           ||True ||Pred\n",
      "==============================\n",
      "many           : O     O\n",
      "of             : O     O\n",
      "these          : O     O\n",
      "citizens       : O     O\n",
      "were           : O     O\n",
      "jews           : B-MISC B-MISC\n",
      "murdered       : O     O\n",
      "during         : O     O\n",
      "the            : O     O\n",
      "war            : O     O\n",
      ",              : O     O\n",
      "when           : O     O\n",
      "nazi           : B-MISC B-MISC\n",
      "german         : B-MISC B-MISC\n",
      "invaders       : O     O\n",
      "killed         : O     O\n",
      "most           : O     O\n",
      "of             : O     O\n",
      "poland         : B-LOC B-LOC\n",
      "'s             : O     O\n",
      "3.5            : O     O\n",
      "million        : O     O\n",
      "jews           : B-MISC B-MISC\n",
      ".              : O     O\n"
     ]
    }
   ],
   "source": [
    "i = 936\n",
    "preds, true = predict([test_set[i]])\n",
    "print(\"{:15}||{:5}||{}\".format(\"Word\", \"True\", \"Pred\"))\n",
    "print(30 * \"=\")\n",
    "for w, t, pred in zip(test_set[i][0], true[0], preds[0]):\n",
    "    print(\"{:15}: {:5} {}\".format(idx2word[w], idx2tag_[t], idx2tag[pred]))"
   ]
  },
  {
   "cell_type": "markdown",
   "metadata": {
    "id": "WXe-8LYxzVXb"
   },
   "source": [
    "In the example shown above, the model got all the entities correctly. Words like 'jews', 'nazi', 'german' were correctly identified. it is interesting to note that 'poland' was labelled as a location while 'german' was labelled as misc. So, the model is actually able to differentiate between countries ('poland') and something which is of a country ('german'). If the word 'germany' were to occur somewhere, the model would then have labelled it as a location."
   ]
  }
 ],
 "metadata": {
  "accelerator": "GPU",
  "colab": {
   "collapsed_sections": [],
   "name": "BiLSTM_CNN.ipynb",
   "provenance": []
  },
  "kernelspec": {
   "display_name": "Python 3 (ipykernel)",
   "language": "python",
   "name": "python3"
  },
  "language_info": {
   "codemirror_mode": {
    "name": "ipython",
    "version": 3
   },
   "file_extension": ".py",
   "mimetype": "text/x-python",
   "name": "python",
   "nbconvert_exporter": "python",
   "pygments_lexer": "ipython3",
   "version": "3.9.7"
  }
 },
 "nbformat": 4,
 "nbformat_minor": 1
}
